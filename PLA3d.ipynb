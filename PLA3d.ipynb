{
 "cells": [
  {
   "cell_type": "markdown",
   "metadata": {},
   "source": [
    "Generate 20 random data(x,y) and initial w_0."
   ]
  },
  {
   "cell_type": "code",
   "execution_count": 19,
   "metadata": {},
   "outputs": [],
   "source": [
    "import matplotlib.pyplot as plt\n",
    "import numpy as np\n",
    "import random\n",
    "\n",
    "x = []\n",
    "y = []\n",
    "#input data\n",
    "for _ in range(20):\n",
    "    #random data\n",
    "    vec = np.array([1, random.gauss(0, 1), random.gauss(0, 1), random.gauss(0, 1)])\n",
    "    x.append(vec)\n",
    "    y.append(random.choice([1, -1]))\n",
    "w = np.array([0, 0, 0, 0])"
   ]
  },
  {
   "cell_type": "markdown",
   "metadata": {},
   "source": [
    "Run pocket algorithm with 200 iterate times **UNLESS** there exist a weight with no mistake.  \n",
    "Then, print out **the weight** and **the amount of mistake**."
   ]
  },
  {
   "cell_type": "code",
   "execution_count": 20,
   "metadata": {},
   "outputs": [
    {
     "name": "stdout",
     "output_type": "stream",
     "text": [
      "the best w is [-1.         -0.27621221 -0.91622624 -0.87971997] with 6 mistakes.\n"
     ]
    }
   ],
   "source": [
    "pocket = w\n",
    "index = 0\n",
    "safe = 0\n",
    "#check 200 times to save the best w\n",
    "for count in range(200):\n",
    "    #if sign(h(x)) is not same as y:\n",
    "    if np.sign(np.dot(x[index], w)) != y[index]:\n",
    "        w = w + y[index] * x[index]\n",
    "        pocketMis = []\n",
    "        newMis = []\n",
    "        # check if the new one is better\n",
    "        for num in range(len(x)):\n",
    "            # check the mistake of pocket w\n",
    "            if np.sign(np.dot(x[num], pocket)) != y[num]:\n",
    "                pocketMis.append(x[num])\n",
    "            # check the mistake of new w\n",
    "            if np.sign(np.dot(x[num], w)) != y[num]:\n",
    "                newMis.append(x[num])\n",
    "        #if new w has fewer mistakes, replace pocket by new w\n",
    "        if len(newMis) < len(pocketMis):\n",
    "            pocket = w\n",
    "            MisNum = len(newMis)\n",
    "        count += 1\n",
    "        safe = 0 #mistake exist, restart\n",
    "    #else keep checking\n",
    "    else:\n",
    "        index += 1\n",
    "        safe += 1\n",
    "        if index == len(x):\n",
    "            index = 0\n",
    "        #if there are no mistakes, then quit\n",
    "        if safe == len(x):\n",
    "            break\n",
    "# best w = pocket\n",
    "wf = pocket\n",
    "print(f'the best w is {wf} with {MisNum} mistakes.')"
   ]
  }
 ],
 "metadata": {
  "kernelspec": {
   "display_name": "py3-8",
   "language": "python",
   "name": "python3"
  },
  "language_info": {
   "codemirror_mode": {
    "name": "ipython",
    "version": 3
   },
   "file_extension": ".py",
   "mimetype": "text/x-python",
   "name": "python",
   "nbconvert_exporter": "python",
   "pygments_lexer": "ipython3",
   "version": "3.8.19"
  }
 },
 "nbformat": 4,
 "nbformat_minor": 2
}
