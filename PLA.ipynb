{
 "cells": [
  {
   "cell_type": "markdown",
   "metadata": {},
   "source": [
    "Generate normalized f and 20 random **x**, and calculate sign(f(x)).  \n",
    "initiate w_0."
   ]
  },
  {
   "cell_type": "code",
   "execution_count": 221,
   "metadata": {},
   "outputs": [
    {
     "name": "stdout",
     "output_type": "stream",
     "text": [
      "ideal weight:[ 1.         -0.23369996 -2.62082349]\n"
     ]
    }
   ],
   "source": [
    "import matplotlib.pyplot as plt\n",
    "import numpy as np\n",
    "import random\n",
    "\n",
    "x = []\n",
    "y = []\n",
    "wf = np.array([random.gauss(0, 1), random.gauss(0, 1), random.gauss(0, 1)])\n",
    "if wf[0] != 0:\n",
    "    wf = wf / wf[0]\n",
    "print(f'ideal weight:{wf}')\n",
    "#input data\n",
    "for _ in range(20):\n",
    "    #random data\n",
    "    vec = np.array([1, random.gauss(0, 1), random.gauss(0, 1)])\n",
    "    x.append(vec)\n",
    "    y.append(np.sign(np.dot(wf, vec)))\n",
    "w = np.array([0, 0, 0])"
   ]
  },
  {
   "cell_type": "markdown",
   "metadata": {},
   "source": [
    "Run PLA(Perceptron Learning Algorithm) until there exist a weight with **no mistake**.  \n",
    "Then, print out the weight."
   ]
  },
  {
   "cell_type": "code",
   "execution_count": 222,
   "metadata": {},
   "outputs": [
    {
     "name": "stdout",
     "output_type": "stream",
     "text": [
      "the best h is [ 1.         -0.21002866 -2.44717537].\n"
     ]
    }
   ],
   "source": [
    "index = 0\n",
    "#check to find the best w\n",
    "while index < len(x):\n",
    "    #if sign(h(x)) is not same as y:\n",
    "    if np.sign(np.dot(x[index], w)) != y[index]:\n",
    "        w = w + y[index] * x[index]\n",
    "        index = 0 #reset\n",
    "    else:\n",
    "        index += 1\n",
    "if w[0] != 0:\n",
    "    w = w / w[0]\n",
    "print(f'the best h is {w}.')"
   ]
  },
  {
   "cell_type": "markdown",
   "metadata": {},
   "source": [
    "Separate good data and bad data, and plot the data, the h(x) line, and the **real** f(x) line."
   ]
  },
  {
   "cell_type": "code",
   "execution_count": 223,
   "metadata": {},
   "outputs": [
    {
     "data": {
      "image/png": "[encoded data removed]",
      "text/plain": [
       "<Figure size 640x480 with 1 Axes>"
      ]
     },
     "metadata": {},
     "output_type": "display_data"
    }
   ],
   "source": [
    "#plot time\n",
    "fig, ax = plt.subplots()\n",
    "x1p = []\n",
    "x2p = []\n",
    "x1n = []\n",
    "x2n = []\n",
    "#separate good and bad x\n",
    "for num in range(len(x)):\n",
    "    if y[num] > 0:\n",
    "        x1p.append(x[num][1])\n",
    "        x2p.append(x[num][2])\n",
    "    else:\n",
    "        x1n.append(x[num][1])\n",
    "        x2n.append(x[num][2])\n",
    "#vertical line\n",
    "if w[2] == 0:\n",
    "    # changed from w0 + w1*x1 = 0     \n",
    "    x1_values = np.linspace((-1 * w[0] / w[1]), (-1 * w[0] / w[1]), 20)\n",
    "    x2_values = np.linspace(-2, 2, 20)\n",
    "    x1_values_wf = np.linspace((-1 * wf[0] / wf[1]), (-1 * wf[0] / wf[1]), 20)\n",
    "    x2_values_wf = np.linspace(-2, 2, 20)\n",
    "#slant or horizontal line\n",
    "else:\n",
    "    x1_values = np.linspace(-2, 2, 20)\n",
    "    # changed from w0 + w1*x1 + w2*x2 = 0 \n",
    "    x2_values = (-1 * w[1] / w[2]) * x1_values + (-1 * w[0] / w[2])\n",
    "    x1_values_wf = np.linspace(-2, 2, 20)\n",
    "    # changed from w0 + w1*x1 + w2*x2 = 0 \n",
    "    x2_values_wf = (-1 * wf[1] / wf[2]) * x1_values_wf + (-1 * wf[0] / wf[2])\n",
    "#draw\n",
    "ax.scatter(x1p, x2p, c='blue')\n",
    "ax.scatter(x1n, x2n, c='red')\n",
    "ax.plot(x1_values, x2_values, color = 'orange')\n",
    "ax.plot(x1_values_wf, x2_values_wf, color = 'green')\n",
    "plt.show()"
   ]
  }
 ],
 "metadata": {
  "kernelspec": {
   "display_name": "py3-8",
   "language": "python",
   "name": "python3"
  },
  "language_info": {
   "codemirror_mode": {
    "name": "ipython",
    "version": 3
   },
   "file_extension": ".py",
   "mimetype": "text/x-python",
   "name": "python",
   "nbconvert_exporter": "python",
   "pygments_lexer": "ipython3",
   "version": "3.8.19"
  }
 },
 "nbformat": 4,
 "nbformat_minor": 2
}
