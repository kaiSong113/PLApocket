{
 "cells": [
  {
   "cell_type": "markdown",
   "metadata": {},
   "source": [
    "generate 20 random data(x,y) and initial w_0."
   ]
  },
  {
   "cell_type": "code",
   "execution_count": 15,
   "metadata": {},
   "outputs": [],
   "source": [
    "import matplotlib.pyplot as plt\n",
    "import numpy as np\n",
    "import random\n",
    "\n",
    "x = []\n",
    "y = []\n",
    "#input data\n",
    "for _ in range(20):\n",
    "    #random data\n",
    "    vec = np.array([1, random.gauss(0, 1), random.gauss(0, 1)])\n",
    "    x.append(vec)\n",
    "    y.append(random.choice([1, -1]))\n",
    "w = np.array([0, 0, 0])"
   ]
  },
  {
   "cell_type": "markdown",
   "metadata": {},
   "source": [
    "run pocket algorithm with 200 iterate times **UNLESS** there exist a weight with no mistake.  \n",
    "then print out **the weight** and **the amount of mistake**."
   ]
  },
  {
   "cell_type": "code",
   "execution_count": 16,
   "metadata": {},
   "outputs": [
    {
     "name": "stdout",
     "output_type": "stream",
     "text": [
      "the best w is [ 0.          0.37634967 -2.12739862] with 2 mistakes.\n"
     ]
    }
   ],
   "source": [
    "pocket = w\n",
    "index = 0\n",
    "safe = 0\n",
    "#check 200 times to save the best w\n",
    "for count in range(200):\n",
    "    #if sign(h(x)) is not same as y:\n",
    "    if np.sign(np.dot(x[index], w)) != y[index]:\n",
    "        w = w + y[index] * x[index]\n",
    "        pocketMis = []\n",
    "        newMis = []\n",
    "        # check if the new one is better\n",
    "        for num in range(len(x)):\n",
    "            # check the mistake of pocket w\n",
    "            if np.sign(np.dot(x[num], pocket)) != y[num]:\n",
    "                pocketMis.append(x[num])\n",
    "            # check the mistake of new w\n",
    "            if np.sign(np.dot(x[num], w)) != y[num]:\n",
    "                newMis.append(x[num])\n",
    "        #if new w has fewer mistakes, replace pocket by new w\n",
    "        if len(newMis) < len(pocketMis):\n",
    "            pocket = w\n",
    "            MisNum = len(newMis)\n",
    "        count += 1\n",
    "        safe = 0 #mistake exist, restart\n",
    "    #else keep checking\n",
    "    else:\n",
    "        index += 1\n",
    "        safe += 1\n",
    "        if index == len(x):\n",
    "            index = 0\n",
    "        #if there are no mistakes, then quit\n",
    "        if safe == len(x):\n",
    "            break\n",
    "# best w = pocket\n",
    "wf = pocket\n",
    "print(f'the best w is {wf} with {MisNum} mistakes.')"
   ]
  },
  {
   "cell_type": "markdown",
   "metadata": {},
   "source": [
    "plot the data and the h(x) line."
   ]
  },
  {
   "cell_type": "code",
   "execution_count": 17,
   "metadata": {},
   "outputs": [
    {
     "data": {
      "image/png": "[encoded data removed]",
      "text/plain": [
       "<Figure size 640x480 with 1 Axes>"
      ]
     },
     "metadata": {},
     "output_type": "display_data"
    }
   ],
   "source": [
    "#plot time\n",
    "fig, ax = plt.subplots()\n",
    "x1p = []\n",
    "x2p = []\n",
    "x1n = []\n",
    "x2n = []\n",
    "#separate good and bad x\n",
    "for num in range(len(x)):\n",
    "    if y[num] > 0:\n",
    "        x1p.append(x[num][1])\n",
    "        x2p.append(x[num][2])\n",
    "    else:\n",
    "        x1n.append(x[num][1])\n",
    "        x2n.append(x[num][2])\n",
    "#vertical line\n",
    "if w[2] == 0:\n",
    "    # changed from w0 + w1*x1 = 0     \n",
    "    x1_values = np.linspace((-1 * w[0] / w[1]), (-1 * w[0] / w[1]), 20)\n",
    "    x2_values = np.linspace(-4, 4, 20)\n",
    "#slant or horizontal line\n",
    "else:\n",
    "    x1_values = np.linspace(-4, 4, 20)\n",
    "    # changed from w0 + w1*x1 + w2*x2 = 0 \n",
    "    x2_values = (-1 * wf[1] / wf[2]) * x1_values + (-1 * wf[0] / wf[2])\n",
    "#draw\n",
    "ax.scatter(x1p, x2p, c='blue')\n",
    "ax.scatter(x1n, x2n, c='red')\n",
    "ax.plot(x1_values, x2_values)\n",
    "plt.show()"
   ]
  }
 ],
 "metadata": {
  "kernelspec": {
   "display_name": "py3-8",
   "language": "python",
   "name": "python3"
  },
  "language_info": {
   "codemirror_mode": {
    "name": "ipython",
    "version": 3
   },
   "file_extension": ".py",
   "mimetype": "text/x-python",
   "name": "python",
   "nbconvert_exporter": "python",
   "pygments_lexer": "ipython3",
   "version": "3.8.19"
  }
 },
 "nbformat": 4,
 "nbformat_minor": 2
}
